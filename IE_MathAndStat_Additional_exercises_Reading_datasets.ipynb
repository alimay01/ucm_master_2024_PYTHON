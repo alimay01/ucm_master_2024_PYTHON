{
 "cells": [
  {
   "cell_type": "markdown",
   "id": "59588a21",
   "metadata": {},
   "source": [
    "# Math & Stat - Additional exercises\n",
    "\n",
    "# 1. Reading (a little bit) complex datasets\n",
    "\n",
    "EN: The purpose of this exercise is to read and pre-process some datasets we can use for different analyses in later exercises. These are real datasets extracted from two open data sources:\n",
    "\n",
    "1. Official ISCIII (Epidemiologics Institute of Spanish Health Ministry) COVID data 2020-2022. These data are daily, per province, per gender, per age group, and are useful to plot the evolution of pandemic in Spain, and also to find out differences between any of the grouping variables present in the dataset.\n",
    "\n",
    "2. Spanish population data, from Spanish Statistics Institute (INE). These data will be most useful to compute relative proportions of infections per age group, per sex, per province, so that we can make comparisons.\n",
    "\n",
    "3. UK Cars 2016. These are open data about all cars on sale in UK in 2016, including consumption, emissions, and basic features of the cars. \n",
    "\n",
    "All these datasets are csv, but with different properties. You shall use pandas to read them, and then pre-process them and finally (if you want but much recommended) save them in binary format (pickle)\n",
    "\n",
    "HINT: The library imports are usually specified in the first notebook cell(s)\n"
   ]
  },
  {
   "cell_type": "code",
   "execution_count": null,
   "id": "59e72a22",
   "metadata": {},
   "outputs": [],
   "source": []
  },
  {
   "cell_type": "markdown",
   "id": "445cb40c",
   "metadata": {
    "id": "6833d36a"
   },
   "source": [
    "## 1. COVID Dataset\n",
    "\n",
    "This dataset contains all official **daily** data about COVID in Spain, since 1st Jan. 2020 till end of March 2022 when they decided the daily accountancy was not further needed (they changed it to weekly, therefore it is not directly comparable). \n",
    "\n",
    "This dataset is still available in ISCIII servers, but it is also uploaded to the same repo. as this notebook (as it is open data and frozen since March 2022).\n",
    "\n",
    "casos_hosp_uci_def_sexo_edad_provres.csv\n",
    "\n",
    "https://cnecovid.isciii.es/covid19/resources/casos_hosp_uci_def_sexo_edad_provres.csv\n",
    "\n",
    "Answer the following questions:\n",
    "\n",
    "- How many rows does this dataset have? Why are they so many?\n",
    "- With default options in pandas read_csv, all variables have the correct dtype?\n",
    "- Do you find any strange group in either age_group or gender variables? What can we do with it?\n",
    "\n"
   ]
  },
  {
   "cell_type": "code",
   "execution_count": null,
   "id": "194a6d9b",
   "metadata": {},
   "outputs": [],
   "source": []
  },
  {
   "cell_type": "markdown",
   "id": "6833d36a",
   "metadata": {
    "id": "6833d36a"
   },
   "source": [
    "## 2. INE official Spain population data\n",
    "\n",
    "An important problem in epidemiology (and of couse in statistics, because this is the name of the discipline dealing with health statistics) is comparing between very different populations sizes. \n",
    "\n",
    "For instance, think on comparing incidence (active infections rates in a specific moment in time) between places with large populations (ie Madrid) and those with very small populations (ie Segovia, Soria). You need to compute rates first and for this purpose you need official population estimates. This can and shall be made per the grouping characteristics that you want to compare (ie gender, age group or whatever other individual feature in the data).\n",
    "\n",
    "These data are offered by national Statistics Institutes. Here in Spain, the INE.\n",
    "\n",
    "Then read the population csv's per year (2020, 21, 22) **but FIRST make sure you know the separators -numeric, between variables**. \n",
    "\n",
    "Search pandas documentation to include the specific read_csv options that will help you read the data in the appropriate format. **And verify it**\n",
    "\n"
   ]
  },
  {
   "cell_type": "code",
   "execution_count": null,
   "id": "45d25db6",
   "metadata": {},
   "outputs": [],
   "source": []
  },
  {
   "cell_type": "markdown",
   "id": "cee69219",
   "metadata": {
    "id": "6833d36a"
   },
   "source": [
    "## 3. UK cars on sale 2016\n",
    "\n",
    "Although it is 7 years old, this dataset is still very representative of the car market in european countries. It is very useful to propose analyses for predicting consumption or emissions (CO2 and other polluting gases). \n",
    "\n",
    "**IMPORTANT:  Open the csv with a text reader to find out which separator it uses!!**\n",
    "\n",
    "Please note it contains a transformed variable (\"Tipo\", type in spanish), which is a manipulation of the equivalente english variable.\n",
    "\n",
    "Once you have loaded it, why do you think I made this additional variable?\n",
    "\n",
    "Answer the following questions:\n",
    "\n",
    "- How many vehicles does the dataset contains? In how many variables?\n",
    "- How many different manufacturers does the dataset contain?\n",
    "- Which is the manufacturer with more different models on sale?\n",
    "- Which is the manufacturer with fewer models on sale?\n",
    "- If we want to make statistical comparisons (tests) between groups, what dataset variables can we (reasonably) use?\n",
    "- Quick and roughly, can you propose some hypothesis about predictive models for consumption or emissions?"
   ]
  },
  {
   "cell_type": "code",
   "execution_count": null,
   "id": "0dec5a26",
   "metadata": {},
   "outputs": [],
   "source": []
  },
  {
   "cell_type": "markdown",
   "id": "05e0d983",
   "metadata": {
    "id": "6833d36a"
   },
   "source": [
    "## 4. Save dataframes in binary format\n",
    "\n",
    "Why?\n",
    "\n",
    "Because you save data **and all transformations you did with the data**. Besides **it is more compact and faster to upload for next sessions / analyses**\n",
    "\n",
    "Use **to_pickle** pandas function and set a name with .pkl extension\n"
   ]
  },
  {
   "cell_type": "code",
   "execution_count": null,
   "id": "e120e98e",
   "metadata": {},
   "outputs": [],
   "source": []
  }
 ],
 "metadata": {
  "kernelspec": {
   "display_name": "Python 3 (ipykernel)",
   "language": "python",
   "name": "python3"
  },
  "language_info": {
   "codemirror_mode": {
    "name": "ipython",
    "version": 3
   },
   "file_extension": ".py",
   "mimetype": "text/x-python",
   "name": "python",
   "nbconvert_exporter": "python",
   "pygments_lexer": "ipython3",
   "version": "3.10.6"
  }
 },
 "nbformat": 4,
 "nbformat_minor": 5
}
