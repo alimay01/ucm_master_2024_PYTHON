{
  "cells": [
    {
      "cell_type": "code",
      "execution_count": 1,
      "id": "207a2482",
      "metadata": {
        "colab": {
          "base_uri": "https://localhost:8080/"
        },
        "id": "207a2482",
        "outputId": "d4c3e3b7-2a99-4171-9b91-f6e79d4bd621"
      },
      "outputs": [
        {
          "output_type": "stream",
          "name": "stdout",
          "text": [
            "3.10.12 (main, Nov 20 2023, 15:14:05) [GCC 11.4.0]\n"
          ]
        }
      ],
      "source": [
        "import sys\n",
        "print(sys.version)"
      ]
    },
    {
      "cell_type": "code",
      "execution_count": 2,
      "id": "05308d30",
      "metadata": {
        "id": "05308d30"
      },
      "outputs": [],
      "source": [
        "import pandas as pd\n",
        "import numpy as np\n"
      ]
    },
    {
      "cell_type": "code",
      "execution_count": 3,
      "id": "2e6cb345",
      "metadata": {
        "colab": {
          "base_uri": "https://localhost:8080/"
        },
        "id": "2e6cb345",
        "outputId": "0f3b6dbe-f0cc-4a0f-aa95-8fad29784a1a"
      },
      "outputs": [
        {
          "output_type": "stream",
          "name": "stdout",
          "text": [
            "1.5.3\n",
            "1.23.5\n"
          ]
        }
      ],
      "source": [
        "print(pd.__version__)\n",
        "print(np.__version__)"
      ]
    },
    {
      "cell_type": "code",
      "execution_count": 4,
      "id": "87fb57b2",
      "metadata": {
        "id": "87fb57b2"
      },
      "outputs": [],
      "source": [
        "import matplotlib\n",
        "import seaborn"
      ]
    },
    {
      "cell_type": "code",
      "execution_count": 5,
      "id": "76a3842d",
      "metadata": {
        "id": "76a3842d"
      },
      "outputs": [],
      "source": [
        "import plotnine # nos permitirá utilizar ggplot que se utiliza en R\n"
      ]
    },
    {
      "cell_type": "code",
      "source": [
        "import plotly"
      ],
      "metadata": {
        "id": "1lVP0HIqhRY6"
      },
      "id": "1lVP0HIqhRY6",
      "execution_count": 7,
      "outputs": []
    },
    {
      "cell_type": "code",
      "source": [
        "import dash\n",
        "import shiny"
      ],
      "metadata": {
        "id": "WA6ZlCeah6c6"
      },
      "id": "WA6ZlCeah6c6",
      "execution_count": 8,
      "outputs": []
    },
    {
      "cell_type": "code",
      "source": [
        "  pip install -r https://raw.githubusercontent.com/alimay01/ucm_master_2024_PYTHON/main/requirements.txt"
      ],
      "metadata": {
        "colab": {
          "base_uri": "https://localhost:8080/",
          "height": 1000
        },
        "id": "lvv_bz75ee8o",
        "outputId": "c1f9f366-8fea-4427-e204-cd6253779751"
      },
      "id": "lvv_bz75ee8o",
      "execution_count": 6,
      "outputs": [
        {
          "output_type": "stream",
          "name": "stdout",
          "text": [
            "Requirement already satisfied: bokeh in /usr/local/lib/python3.10/dist-packages (from -r https://raw.githubusercontent.com/alimay01/ucm_master_2024_PYTHON/main/requirements.txt (line 1)) (3.3.2)\n",
            "Collecting dash (from -r https://raw.githubusercontent.com/alimay01/ucm_master_2024_PYTHON/main/requirements.txt (line 2))\n",
            "  Downloading dash-2.14.2-py3-none-any.whl (10.2 MB)\n",
            "\u001b[2K     \u001b[90m━━━━━━━━━━━━━━━━━━━━━━━━━━━━━━━━━━━━━━━━\u001b[0m \u001b[32m10.2/10.2 MB\u001b[0m \u001b[31m22.3 MB/s\u001b[0m eta \u001b[36m0:00:00\u001b[0m\n",
            "\u001b[?25hRequirement already satisfied: folium in /usr/local/lib/python3.10/dist-packages (from -r https://raw.githubusercontent.com/alimay01/ucm_master_2024_PYTHON/main/requirements.txt (line 3)) (0.14.0)\n",
            "Collecting gleam (from -r https://raw.githubusercontent.com/alimay01/ucm_master_2024_PYTHON/main/requirements.txt (line 4))\n",
            "  Downloading gleam-0.1.2.tar.gz (263 kB)\n",
            "\u001b[2K     \u001b[90m━━━━━━━━━━━━━━━━━━━━━━━━━━━━━━━━━━━━━━━━\u001b[0m \u001b[32m263.4/263.4 kB\u001b[0m \u001b[31m23.0 MB/s\u001b[0m eta \u001b[36m0:00:00\u001b[0m\n",
            "\u001b[?25h  Preparing metadata (setup.py) ... \u001b[?25l\u001b[?25hdone\n",
            "Requirement already satisfied: matplotlib in /usr/local/lib/python3.10/dist-packages (from -r https://raw.githubusercontent.com/alimay01/ucm_master_2024_PYTHON/main/requirements.txt (line 5)) (3.7.1)\n",
            "Requirement already satisfied: notebook in /usr/local/lib/python3.10/dist-packages (from -r https://raw.githubusercontent.com/alimay01/ucm_master_2024_PYTHON/main/requirements.txt (line 6)) (6.5.5)\n",
            "Requirement already satisfied: numpy in /usr/local/lib/python3.10/dist-packages (from -r https://raw.githubusercontent.com/alimay01/ucm_master_2024_PYTHON/main/requirements.txt (line 7)) (1.23.5)\n",
            "Requirement already satisfied: pandas in /usr/local/lib/python3.10/dist-packages (from -r https://raw.githubusercontent.com/alimay01/ucm_master_2024_PYTHON/main/requirements.txt (line 8)) (1.5.3)\n",
            "Requirement already satisfied: plotly in /usr/local/lib/python3.10/dist-packages (from -r https://raw.githubusercontent.com/alimay01/ucm_master_2024_PYTHON/main/requirements.txt (line 9)) (5.15.0)\n",
            "Requirement already satisfied: plotnine in /usr/local/lib/python3.10/dist-packages (from -r https://raw.githubusercontent.com/alimay01/ucm_master_2024_PYTHON/main/requirements.txt (line 10)) (0.12.4)\n",
            "Collecting pygal (from -r https://raw.githubusercontent.com/alimay01/ucm_master_2024_PYTHON/main/requirements.txt (line 11))\n",
            "  Downloading pygal-3.0.4-py2.py3-none-any.whl (130 kB)\n",
            "\u001b[2K     \u001b[90m━━━━━━━━━━━━━━━━━━━━━━━━━━━━━━━━━━━━━━━━\u001b[0m \u001b[32m130.4/130.4 kB\u001b[0m \u001b[31m13.1 MB/s\u001b[0m eta \u001b[36m0:00:00\u001b[0m\n",
            "\u001b[?25hRequirement already satisfied: seaborn in /usr/local/lib/python3.10/dist-packages (from -r https://raw.githubusercontent.com/alimay01/ucm_master_2024_PYTHON/main/requirements.txt (line 12)) (0.12.2)\n",
            "Collecting shiny (from -r https://raw.githubusercontent.com/alimay01/ucm_master_2024_PYTHON/main/requirements.txt (line 13))\n",
            "  Downloading shiny-0.6.1.1-py3-none-any.whl (3.3 MB)\n",
            "\u001b[2K     \u001b[90m━━━━━━━━━━━━━━━━━━━━━━━━━━━━━━━━━━━━━━━━\u001b[0m \u001b[32m3.3/3.3 MB\u001b[0m \u001b[31m41.9 MB/s\u001b[0m eta \u001b[36m0:00:00\u001b[0m\n",
            "\u001b[?25hRequirement already satisfied: Jinja2>=2.9 in /usr/local/lib/python3.10/dist-packages (from bokeh->-r https://raw.githubusercontent.com/alimay01/ucm_master_2024_PYTHON/main/requirements.txt (line 1)) (3.1.2)\n",
            "Requirement already satisfied: contourpy>=1 in /usr/local/lib/python3.10/dist-packages (from bokeh->-r https://raw.githubusercontent.com/alimay01/ucm_master_2024_PYTHON/main/requirements.txt (line 1)) (1.2.0)\n",
            "Requirement already satisfied: packaging>=16.8 in /usr/local/lib/python3.10/dist-packages (from bokeh->-r https://raw.githubusercontent.com/alimay01/ucm_master_2024_PYTHON/main/requirements.txt (line 1)) (23.2)\n",
            "Requirement already satisfied: pillow>=7.1.0 in /usr/local/lib/python3.10/dist-packages (from bokeh->-r https://raw.githubusercontent.com/alimay01/ucm_master_2024_PYTHON/main/requirements.txt (line 1)) (9.4.0)\n",
            "Requirement already satisfied: PyYAML>=3.10 in /usr/local/lib/python3.10/dist-packages (from bokeh->-r https://raw.githubusercontent.com/alimay01/ucm_master_2024_PYTHON/main/requirements.txt (line 1)) (6.0.1)\n",
            "Requirement already satisfied: tornado>=5.1 in /usr/local/lib/python3.10/dist-packages (from bokeh->-r https://raw.githubusercontent.com/alimay01/ucm_master_2024_PYTHON/main/requirements.txt (line 1)) (6.3.2)\n",
            "Requirement already satisfied: xyzservices>=2021.09.1 in /usr/local/lib/python3.10/dist-packages (from bokeh->-r https://raw.githubusercontent.com/alimay01/ucm_master_2024_PYTHON/main/requirements.txt (line 1)) (2023.10.1)\n",
            "Requirement already satisfied: Flask<3.1,>=1.0.4 in /usr/local/lib/python3.10/dist-packages (from dash->-r https://raw.githubusercontent.com/alimay01/ucm_master_2024_PYTHON/main/requirements.txt (line 2)) (2.2.5)\n",
            "Requirement already satisfied: Werkzeug<3.1 in /usr/local/lib/python3.10/dist-packages (from dash->-r https://raw.githubusercontent.com/alimay01/ucm_master_2024_PYTHON/main/requirements.txt (line 2)) (3.0.1)\n",
            "Collecting dash-html-components==2.0.0 (from dash->-r https://raw.githubusercontent.com/alimay01/ucm_master_2024_PYTHON/main/requirements.txt (line 2))\n",
            "  Downloading dash_html_components-2.0.0-py3-none-any.whl (4.1 kB)\n",
            "Collecting dash-core-components==2.0.0 (from dash->-r https://raw.githubusercontent.com/alimay01/ucm_master_2024_PYTHON/main/requirements.txt (line 2))\n",
            "  Downloading dash_core_components-2.0.0-py3-none-any.whl (3.8 kB)\n",
            "Collecting dash-table==5.0.0 (from dash->-r https://raw.githubusercontent.com/alimay01/ucm_master_2024_PYTHON/main/requirements.txt (line 2))\n",
            "  Downloading dash_table-5.0.0-py3-none-any.whl (3.9 kB)\n",
            "Requirement already satisfied: typing-extensions>=4.1.1 in /usr/local/lib/python3.10/dist-packages (from dash->-r https://raw.githubusercontent.com/alimay01/ucm_master_2024_PYTHON/main/requirements.txt (line 2)) (4.5.0)\n",
            "Requirement already satisfied: requests in /usr/local/lib/python3.10/dist-packages (from dash->-r https://raw.githubusercontent.com/alimay01/ucm_master_2024_PYTHON/main/requirements.txt (line 2)) (2.31.0)\n",
            "Collecting retrying (from dash->-r https://raw.githubusercontent.com/alimay01/ucm_master_2024_PYTHON/main/requirements.txt (line 2))\n",
            "  Downloading retrying-1.3.4-py3-none-any.whl (11 kB)\n",
            "Collecting ansi2html (from dash->-r https://raw.githubusercontent.com/alimay01/ucm_master_2024_PYTHON/main/requirements.txt (line 2))\n",
            "  Downloading ansi2html-1.9.1-py3-none-any.whl (17 kB)\n",
            "Requirement already satisfied: nest-asyncio in /usr/local/lib/python3.10/dist-packages (from dash->-r https://raw.githubusercontent.com/alimay01/ucm_master_2024_PYTHON/main/requirements.txt (line 2)) (1.5.8)\n",
            "Requirement already satisfied: setuptools in /usr/local/lib/python3.10/dist-packages (from dash->-r https://raw.githubusercontent.com/alimay01/ucm_master_2024_PYTHON/main/requirements.txt (line 2)) (67.7.2)\n",
            "Requirement already satisfied: importlib-metadata in /usr/local/lib/python3.10/dist-packages (from dash->-r https://raw.githubusercontent.com/alimay01/ucm_master_2024_PYTHON/main/requirements.txt (line 2)) (7.0.1)\n",
            "Requirement already satisfied: branca>=0.6.0 in /usr/local/lib/python3.10/dist-packages (from folium->-r https://raw.githubusercontent.com/alimay01/ucm_master_2024_PYTHON/main/requirements.txt (line 3)) (0.7.0)\n",
            "Collecting WTForms (from gleam->-r https://raw.githubusercontent.com/alimay01/ucm_master_2024_PYTHON/main/requirements.txt (line 4))\n",
            "  Downloading wtforms-3.1.2-py3-none-any.whl (145 kB)\n",
            "\u001b[2K     \u001b[90m━━━━━━━━━━━━━━━━━━━━━━━━━━━━━━━━━━━━━━━━\u001b[0m \u001b[32m146.0/146.0 kB\u001b[0m \u001b[31m18.1 MB/s\u001b[0m eta \u001b[36m0:00:00\u001b[0m\n",
            "\u001b[?25hRequirement already satisfied: cycler>=0.10 in /usr/local/lib/python3.10/dist-packages (from matplotlib->-r https://raw.githubusercontent.com/alimay01/ucm_master_2024_PYTHON/main/requirements.txt (line 5)) (0.12.1)\n",
            "Requirement already satisfied: fonttools>=4.22.0 in /usr/local/lib/python3.10/dist-packages (from matplotlib->-r https://raw.githubusercontent.com/alimay01/ucm_master_2024_PYTHON/main/requirements.txt (line 5)) (4.47.0)\n",
            "Requirement already satisfied: kiwisolver>=1.0.1 in /usr/local/lib/python3.10/dist-packages (from matplotlib->-r https://raw.githubusercontent.com/alimay01/ucm_master_2024_PYTHON/main/requirements.txt (line 5)) (1.4.5)\n",
            "Requirement already satisfied: pyparsing>=2.3.1 in /usr/local/lib/python3.10/dist-packages (from matplotlib->-r https://raw.githubusercontent.com/alimay01/ucm_master_2024_PYTHON/main/requirements.txt (line 5)) (3.1.1)\n",
            "Requirement already satisfied: python-dateutil>=2.7 in /usr/local/lib/python3.10/dist-packages (from matplotlib->-r https://raw.githubusercontent.com/alimay01/ucm_master_2024_PYTHON/main/requirements.txt (line 5)) (2.8.2)\n",
            "Requirement already satisfied: pyzmq<25,>=17 in /usr/local/lib/python3.10/dist-packages (from notebook->-r https://raw.githubusercontent.com/alimay01/ucm_master_2024_PYTHON/main/requirements.txt (line 6)) (23.2.1)\n",
            "Requirement already satisfied: argon2-cffi in /usr/local/lib/python3.10/dist-packages (from notebook->-r https://raw.githubusercontent.com/alimay01/ucm_master_2024_PYTHON/main/requirements.txt (line 6)) (23.1.0)\n",
            "Requirement already satisfied: traitlets>=4.2.1 in /usr/local/lib/python3.10/dist-packages (from notebook->-r https://raw.githubusercontent.com/alimay01/ucm_master_2024_PYTHON/main/requirements.txt (line 6)) (5.7.1)\n",
            "Requirement already satisfied: jupyter-core>=4.6.1 in /usr/local/lib/python3.10/dist-packages (from notebook->-r https://raw.githubusercontent.com/alimay01/ucm_master_2024_PYTHON/main/requirements.txt (line 6)) (5.7.0)\n",
            "Requirement already satisfied: jupyter-client<8,>=5.3.4 in /usr/local/lib/python3.10/dist-packages (from notebook->-r https://raw.githubusercontent.com/alimay01/ucm_master_2024_PYTHON/main/requirements.txt (line 6)) (6.1.12)\n",
            "Requirement already satisfied: ipython-genutils in /usr/local/lib/python3.10/dist-packages (from notebook->-r https://raw.githubusercontent.com/alimay01/ucm_master_2024_PYTHON/main/requirements.txt (line 6)) (0.2.0)\n",
            "Requirement already satisfied: nbformat in /usr/local/lib/python3.10/dist-packages (from notebook->-r https://raw.githubusercontent.com/alimay01/ucm_master_2024_PYTHON/main/requirements.txt (line 6)) (5.9.2)\n",
            "Requirement already satisfied: nbconvert>=5 in /usr/local/lib/python3.10/dist-packages (from notebook->-r https://raw.githubusercontent.com/alimay01/ucm_master_2024_PYTHON/main/requirements.txt (line 6)) (6.5.4)\n",
            "Requirement already satisfied: ipykernel in /usr/local/lib/python3.10/dist-packages (from notebook->-r https://raw.githubusercontent.com/alimay01/ucm_master_2024_PYTHON/main/requirements.txt (line 6)) (5.5.6)\n",
            "Requirement already satisfied: Send2Trash>=1.8.0 in /usr/local/lib/python3.10/dist-packages (from notebook->-r https://raw.githubusercontent.com/alimay01/ucm_master_2024_PYTHON/main/requirements.txt (line 6)) (1.8.2)\n",
            "Requirement already satisfied: terminado>=0.8.3 in /usr/local/lib/python3.10/dist-packages (from notebook->-r https://raw.githubusercontent.com/alimay01/ucm_master_2024_PYTHON/main/requirements.txt (line 6)) (0.18.0)\n",
            "Requirement already satisfied: prometheus-client in /usr/local/lib/python3.10/dist-packages (from notebook->-r https://raw.githubusercontent.com/alimay01/ucm_master_2024_PYTHON/main/requirements.txt (line 6)) (0.19.0)\n",
            "Requirement already satisfied: nbclassic>=0.4.7 in /usr/local/lib/python3.10/dist-packages (from notebook->-r https://raw.githubusercontent.com/alimay01/ucm_master_2024_PYTHON/main/requirements.txt (line 6)) (1.0.0)\n",
            "Requirement already satisfied: pytz>=2020.1 in /usr/local/lib/python3.10/dist-packages (from pandas->-r https://raw.githubusercontent.com/alimay01/ucm_master_2024_PYTHON/main/requirements.txt (line 8)) (2023.3.post1)\n",
            "Requirement already satisfied: tenacity>=6.2.0 in /usr/local/lib/python3.10/dist-packages (from plotly->-r https://raw.githubusercontent.com/alimay01/ucm_master_2024_PYTHON/main/requirements.txt (line 9)) (8.2.3)\n",
            "Requirement already satisfied: mizani<0.10.0,>0.9.0 in /usr/local/lib/python3.10/dist-packages (from plotnine->-r https://raw.githubusercontent.com/alimay01/ucm_master_2024_PYTHON/main/requirements.txt (line 10)) (0.9.3)\n",
            "Requirement already satisfied: patsy>=0.5.1 in /usr/local/lib/python3.10/dist-packages (from plotnine->-r https://raw.githubusercontent.com/alimay01/ucm_master_2024_PYTHON/main/requirements.txt (line 10)) (0.5.6)\n",
            "Requirement already satisfied: scipy>=1.5.0 in /usr/local/lib/python3.10/dist-packages (from plotnine->-r https://raw.githubusercontent.com/alimay01/ucm_master_2024_PYTHON/main/requirements.txt (line 10)) (1.11.4)\n",
            "Requirement already satisfied: statsmodels>=0.14.0 in /usr/local/lib/python3.10/dist-packages (from plotnine->-r https://raw.githubusercontent.com/alimay01/ucm_master_2024_PYTHON/main/requirements.txt (line 10)) (0.14.1)\n",
            "Collecting uvicorn>=0.16.0 (from shiny->-r https://raw.githubusercontent.com/alimay01/ucm_master_2024_PYTHON/main/requirements.txt (line 13))\n",
            "  Downloading uvicorn-0.25.0-py3-none-any.whl (60 kB)\n",
            "\u001b[2K     \u001b[90m━━━━━━━━━━━━━━━━━━━━━━━━━━━━━━━━━━━━━━━━\u001b[0m \u001b[32m60.3/60.3 kB\u001b[0m \u001b[31m6.8 MB/s\u001b[0m eta \u001b[36m0:00:00\u001b[0m\n",
            "\u001b[?25hCollecting starlette>=0.17.1 (from shiny->-r https://raw.githubusercontent.com/alimay01/ucm_master_2024_PYTHON/main/requirements.txt (line 13))\n",
            "  Downloading starlette-0.35.1-py3-none-any.whl (71 kB)\n",
            "\u001b[2K     \u001b[90m━━━━━━━━━━━━━━━━━━━━━━━━━━━━━━━━━━━━━━━━\u001b[0m \u001b[32m71.1/71.1 kB\u001b[0m \u001b[31m6.9 MB/s\u001b[0m eta \u001b[36m0:00:00\u001b[0m\n",
            "\u001b[?25hCollecting websockets>=10.0 (from shiny->-r https://raw.githubusercontent.com/alimay01/ucm_master_2024_PYTHON/main/requirements.txt (line 13))\n",
            "  Downloading websockets-12.0-cp310-cp310-manylinux_2_5_x86_64.manylinux1_x86_64.manylinux_2_17_x86_64.manylinux2014_x86_64.whl (130 kB)\n",
            "\u001b[2K     \u001b[90m━━━━━━━━━━━━━━━━━━━━━━━━━━━━━━━━━━━━━━━━\u001b[0m \u001b[32m130.2/130.2 kB\u001b[0m \u001b[31m17.4 MB/s\u001b[0m eta \u001b[36m0:00:00\u001b[0m\n",
            "\u001b[?25hCollecting python-multipart (from shiny->-r https://raw.githubusercontent.com/alimay01/ucm_master_2024_PYTHON/main/requirements.txt (line 13))\n",
            "  Downloading python_multipart-0.0.6-py3-none-any.whl (45 kB)\n",
            "\u001b[2K     \u001b[90m━━━━━━━━━━━━━━━━━━━━━━━━━━━━━━━━━━━━━━━━\u001b[0m \u001b[32m45.7/45.7 kB\u001b[0m \u001b[31m4.9 MB/s\u001b[0m eta \u001b[36m0:00:00\u001b[0m\n",
            "\u001b[?25hCollecting htmltools>=0.5.1 (from shiny->-r https://raw.githubusercontent.com/alimay01/ucm_master_2024_PYTHON/main/requirements.txt (line 13))\n",
            "  Downloading htmltools-0.5.1-py3-none-any.whl (83 kB)\n",
            "\u001b[2K     \u001b[90m━━━━━━━━━━━━━━━━━━━━━━━━━━━━━━━━━━━━━━━━\u001b[0m \u001b[32m83.1/83.1 kB\u001b[0m \u001b[31m10.0 MB/s\u001b[0m eta \u001b[36m0:00:00\u001b[0m\n",
            "\u001b[?25hRequirement already satisfied: click>=8.1.4 in /usr/local/lib/python3.10/dist-packages (from shiny->-r https://raw.githubusercontent.com/alimay01/ucm_master_2024_PYTHON/main/requirements.txt (line 13)) (8.1.7)\n",
            "Requirement already satisfied: markdown-it-py>=1.1.0 in /usr/local/lib/python3.10/dist-packages (from shiny->-r https://raw.githubusercontent.com/alimay01/ucm_master_2024_PYTHON/main/requirements.txt (line 13)) (3.0.0)\n",
            "Requirement already satisfied: mdit-py-plugins>=0.3.0 in /usr/local/lib/python3.10/dist-packages (from shiny->-r https://raw.githubusercontent.com/alimay01/ucm_master_2024_PYTHON/main/requirements.txt (line 13)) (0.4.0)\n",
            "Requirement already satisfied: linkify-it-py>=1.0 in /usr/local/lib/python3.10/dist-packages (from shiny->-r https://raw.githubusercontent.com/alimay01/ucm_master_2024_PYTHON/main/requirements.txt (line 13)) (2.0.2)\n",
            "Requirement already satisfied: appdirs>=1.4.4 in /usr/local/lib/python3.10/dist-packages (from shiny->-r https://raw.githubusercontent.com/alimay01/ucm_master_2024_PYTHON/main/requirements.txt (line 13)) (1.4.4)\n",
            "Collecting asgiref>=3.5.2 (from shiny->-r https://raw.githubusercontent.com/alimay01/ucm_master_2024_PYTHON/main/requirements.txt (line 13))\n",
            "  Downloading asgiref-3.7.2-py3-none-any.whl (24 kB)\n",
            "Collecting watchfiles>=0.18.0 (from shiny->-r https://raw.githubusercontent.com/alimay01/ucm_master_2024_PYTHON/main/requirements.txt (line 13))\n",
            "  Downloading watchfiles-0.21.0-cp310-cp310-manylinux_2_17_x86_64.manylinux2014_x86_64.whl (1.3 MB)\n",
            "\u001b[2K     \u001b[90m━━━━━━━━━━━━━━━━━━━━━━━━━━━━━━━━━━━━━━━━\u001b[0m \u001b[32m1.3/1.3 MB\u001b[0m \u001b[31m50.2 MB/s\u001b[0m eta \u001b[36m0:00:00\u001b[0m\n",
            "\u001b[?25hCollecting questionary>=2.0.0 (from shiny->-r https://raw.githubusercontent.com/alimay01/ucm_master_2024_PYTHON/main/requirements.txt (line 13))\n",
            "  Downloading questionary-2.0.1-py3-none-any.whl (34 kB)\n",
            "Requirement already satisfied: itsdangerous>=2.0 in /usr/local/lib/python3.10/dist-packages (from Flask<3.1,>=1.0.4->dash->-r https://raw.githubusercontent.com/alimay01/ucm_master_2024_PYTHON/main/requirements.txt (line 2)) (2.1.2)\n",
            "Requirement already satisfied: MarkupSafe>=2.0 in /usr/local/lib/python3.10/dist-packages (from Jinja2>=2.9->bokeh->-r https://raw.githubusercontent.com/alimay01/ucm_master_2024_PYTHON/main/requirements.txt (line 1)) (2.1.3)\n",
            "Requirement already satisfied: platformdirs>=2.5 in /usr/local/lib/python3.10/dist-packages (from jupyter-core>=4.6.1->notebook->-r https://raw.githubusercontent.com/alimay01/ucm_master_2024_PYTHON/main/requirements.txt (line 6)) (4.1.0)\n",
            "Requirement already satisfied: uc-micro-py in /usr/local/lib/python3.10/dist-packages (from linkify-it-py>=1.0->shiny->-r https://raw.githubusercontent.com/alimay01/ucm_master_2024_PYTHON/main/requirements.txt (line 13)) (1.0.2)\n",
            "Requirement already satisfied: mdurl~=0.1 in /usr/local/lib/python3.10/dist-packages (from markdown-it-py>=1.1.0->shiny->-r https://raw.githubusercontent.com/alimay01/ucm_master_2024_PYTHON/main/requirements.txt (line 13)) (0.1.2)\n",
            "Requirement already satisfied: jupyter-server>=1.8 in /usr/local/lib/python3.10/dist-packages (from nbclassic>=0.4.7->notebook->-r https://raw.githubusercontent.com/alimay01/ucm_master_2024_PYTHON/main/requirements.txt (line 6)) (1.24.0)\n",
            "Requirement already satisfied: notebook-shim>=0.2.3 in /usr/local/lib/python3.10/dist-packages (from nbclassic>=0.4.7->notebook->-r https://raw.githubusercontent.com/alimay01/ucm_master_2024_PYTHON/main/requirements.txt (line 6)) (0.2.3)\n",
            "Requirement already satisfied: lxml in /usr/local/lib/python3.10/dist-packages (from nbconvert>=5->notebook->-r https://raw.githubusercontent.com/alimay01/ucm_master_2024_PYTHON/main/requirements.txt (line 6)) (4.9.4)\n",
            "Requirement already satisfied: beautifulsoup4 in /usr/local/lib/python3.10/dist-packages (from nbconvert>=5->notebook->-r https://raw.githubusercontent.com/alimay01/ucm_master_2024_PYTHON/main/requirements.txt (line 6)) (4.11.2)\n",
            "Requirement already satisfied: bleach in /usr/local/lib/python3.10/dist-packages (from nbconvert>=5->notebook->-r https://raw.githubusercontent.com/alimay01/ucm_master_2024_PYTHON/main/requirements.txt (line 6)) (6.1.0)\n",
            "Requirement already satisfied: defusedxml in /usr/local/lib/python3.10/dist-packages (from nbconvert>=5->notebook->-r https://raw.githubusercontent.com/alimay01/ucm_master_2024_PYTHON/main/requirements.txt (line 6)) (0.7.1)\n",
            "Requirement already satisfied: entrypoints>=0.2.2 in /usr/local/lib/python3.10/dist-packages (from nbconvert>=5->notebook->-r https://raw.githubusercontent.com/alimay01/ucm_master_2024_PYTHON/main/requirements.txt (line 6)) (0.4)\n",
            "Requirement already satisfied: jupyterlab-pygments in /usr/local/lib/python3.10/dist-packages (from nbconvert>=5->notebook->-r https://raw.githubusercontent.com/alimay01/ucm_master_2024_PYTHON/main/requirements.txt (line 6)) (0.3.0)\n",
            "Requirement already satisfied: mistune<2,>=0.8.1 in /usr/local/lib/python3.10/dist-packages (from nbconvert>=5->notebook->-r https://raw.githubusercontent.com/alimay01/ucm_master_2024_PYTHON/main/requirements.txt (line 6)) (0.8.4)\n",
            "Requirement already satisfied: nbclient>=0.5.0 in /usr/local/lib/python3.10/dist-packages (from nbconvert>=5->notebook->-r https://raw.githubusercontent.com/alimay01/ucm_master_2024_PYTHON/main/requirements.txt (line 6)) (0.9.0)\n",
            "Requirement already satisfied: pandocfilters>=1.4.1 in /usr/local/lib/python3.10/dist-packages (from nbconvert>=5->notebook->-r https://raw.githubusercontent.com/alimay01/ucm_master_2024_PYTHON/main/requirements.txt (line 6)) (1.5.0)\n",
            "Requirement already satisfied: pygments>=2.4.1 in /usr/local/lib/python3.10/dist-packages (from nbconvert>=5->notebook->-r https://raw.githubusercontent.com/alimay01/ucm_master_2024_PYTHON/main/requirements.txt (line 6)) (2.16.1)\n",
            "Requirement already satisfied: tinycss2 in /usr/local/lib/python3.10/dist-packages (from nbconvert>=5->notebook->-r https://raw.githubusercontent.com/alimay01/ucm_master_2024_PYTHON/main/requirements.txt (line 6)) (1.2.1)\n",
            "Requirement already satisfied: fastjsonschema in /usr/local/lib/python3.10/dist-packages (from nbformat->notebook->-r https://raw.githubusercontent.com/alimay01/ucm_master_2024_PYTHON/main/requirements.txt (line 6)) (2.19.1)\n",
            "Requirement already satisfied: jsonschema>=2.6 in /usr/local/lib/python3.10/dist-packages (from nbformat->notebook->-r https://raw.githubusercontent.com/alimay01/ucm_master_2024_PYTHON/main/requirements.txt (line 6)) (4.19.2)\n",
            "Requirement already satisfied: six in /usr/local/lib/python3.10/dist-packages (from patsy>=0.5.1->plotnine->-r https://raw.githubusercontent.com/alimay01/ucm_master_2024_PYTHON/main/requirements.txt (line 10)) (1.16.0)\n",
            "Collecting prompt_toolkit<=3.0.36,>=2.0 (from questionary>=2.0.0->shiny->-r https://raw.githubusercontent.com/alimay01/ucm_master_2024_PYTHON/main/requirements.txt (line 13))\n",
            "  Downloading prompt_toolkit-3.0.36-py3-none-any.whl (386 kB)\n",
            "\u001b[2K     \u001b[90m━━━━━━━━━━━━━━━━━━━━━━━━━━━━━━━━━━━━━━━━\u001b[0m \u001b[32m386.4/386.4 kB\u001b[0m \u001b[31m31.4 MB/s\u001b[0m eta \u001b[36m0:00:00\u001b[0m\n",
            "\u001b[?25hRequirement already satisfied: anyio<5,>=3.4.0 in /usr/local/lib/python3.10/dist-packages (from starlette>=0.17.1->shiny->-r https://raw.githubusercontent.com/alimay01/ucm_master_2024_PYTHON/main/requirements.txt (line 13)) (3.7.1)\n",
            "Requirement already satisfied: ptyprocess in /usr/local/lib/python3.10/dist-packages (from terminado>=0.8.3->notebook->-r https://raw.githubusercontent.com/alimay01/ucm_master_2024_PYTHON/main/requirements.txt (line 6)) (0.7.0)\n",
            "Collecting h11>=0.8 (from uvicorn>=0.16.0->shiny->-r https://raw.githubusercontent.com/alimay01/ucm_master_2024_PYTHON/main/requirements.txt (line 13))\n",
            "  Downloading h11-0.14.0-py3-none-any.whl (58 kB)\n",
            "\u001b[2K     \u001b[90m━━━━━━━━━━━━━━━━━━━━━━━━━━━━━━━━━━━━━━━━\u001b[0m \u001b[32m58.3/58.3 kB\u001b[0m \u001b[31m6.8 MB/s\u001b[0m eta \u001b[36m0:00:00\u001b[0m\n",
            "\u001b[?25hRequirement already satisfied: argon2-cffi-bindings in /usr/local/lib/python3.10/dist-packages (from argon2-cffi->notebook->-r https://raw.githubusercontent.com/alimay01/ucm_master_2024_PYTHON/main/requirements.txt (line 6)) (21.2.0)\n",
            "Requirement already satisfied: zipp>=0.5 in /usr/local/lib/python3.10/dist-packages (from importlib-metadata->dash->-r https://raw.githubusercontent.com/alimay01/ucm_master_2024_PYTHON/main/requirements.txt (line 2)) (3.17.0)\n",
            "Requirement already satisfied: ipython>=5.0.0 in /usr/local/lib/python3.10/dist-packages (from ipykernel->notebook->-r https://raw.githubusercontent.com/alimay01/ucm_master_2024_PYTHON/main/requirements.txt (line 6)) (7.34.0)\n",
            "Requirement already satisfied: charset-normalizer<4,>=2 in /usr/local/lib/python3.10/dist-packages (from requests->dash->-r https://raw.githubusercontent.com/alimay01/ucm_master_2024_PYTHON/main/requirements.txt (line 2)) (3.3.2)\n",
            "Requirement already satisfied: idna<4,>=2.5 in /usr/local/lib/python3.10/dist-packages (from requests->dash->-r https://raw.githubusercontent.com/alimay01/ucm_master_2024_PYTHON/main/requirements.txt (line 2)) (3.6)\n",
            "Requirement already satisfied: urllib3<3,>=1.21.1 in /usr/local/lib/python3.10/dist-packages (from requests->dash->-r https://raw.githubusercontent.com/alimay01/ucm_master_2024_PYTHON/main/requirements.txt (line 2)) (2.0.7)\n",
            "Requirement already satisfied: certifi>=2017.4.17 in /usr/local/lib/python3.10/dist-packages (from requests->dash->-r https://raw.githubusercontent.com/alimay01/ucm_master_2024_PYTHON/main/requirements.txt (line 2)) (2023.11.17)\n",
            "Requirement already satisfied: sniffio>=1.1 in /usr/local/lib/python3.10/dist-packages (from anyio<5,>=3.4.0->starlette>=0.17.1->shiny->-r https://raw.githubusercontent.com/alimay01/ucm_master_2024_PYTHON/main/requirements.txt (line 13)) (1.3.0)\n",
            "Requirement already satisfied: exceptiongroup in /usr/local/lib/python3.10/dist-packages (from anyio<5,>=3.4.0->starlette>=0.17.1->shiny->-r https://raw.githubusercontent.com/alimay01/ucm_master_2024_PYTHON/main/requirements.txt (line 13)) (1.2.0)\n",
            "Collecting jedi>=0.16 (from ipython>=5.0.0->ipykernel->notebook->-r https://raw.githubusercontent.com/alimay01/ucm_master_2024_PYTHON/main/requirements.txt (line 6))\n",
            "  Downloading jedi-0.19.1-py2.py3-none-any.whl (1.6 MB)\n",
            "\u001b[2K     \u001b[90m━━━━━━━━━━━━━━━━━━━━━━━━━━━━━━━━━━━━━━━━\u001b[0m \u001b[32m1.6/1.6 MB\u001b[0m \u001b[31m54.8 MB/s\u001b[0m eta \u001b[36m0:00:00\u001b[0m\n",
            "\u001b[?25hRequirement already satisfied: decorator in /usr/local/lib/python3.10/dist-packages (from ipython>=5.0.0->ipykernel->notebook->-r https://raw.githubusercontent.com/alimay01/ucm_master_2024_PYTHON/main/requirements.txt (line 6)) (4.4.2)\n",
            "Requirement already satisfied: pickleshare in /usr/local/lib/python3.10/dist-packages (from ipython>=5.0.0->ipykernel->notebook->-r https://raw.githubusercontent.com/alimay01/ucm_master_2024_PYTHON/main/requirements.txt (line 6)) (0.7.5)\n",
            "Requirement already satisfied: backcall in /usr/local/lib/python3.10/dist-packages (from ipython>=5.0.0->ipykernel->notebook->-r https://raw.githubusercontent.com/alimay01/ucm_master_2024_PYTHON/main/requirements.txt (line 6)) (0.2.0)\n",
            "Requirement already satisfied: matplotlib-inline in /usr/local/lib/python3.10/dist-packages (from ipython>=5.0.0->ipykernel->notebook->-r https://raw.githubusercontent.com/alimay01/ucm_master_2024_PYTHON/main/requirements.txt (line 6)) (0.1.6)\n",
            "Requirement already satisfied: pexpect>4.3 in /usr/local/lib/python3.10/dist-packages (from ipython>=5.0.0->ipykernel->notebook->-r https://raw.githubusercontent.com/alimay01/ucm_master_2024_PYTHON/main/requirements.txt (line 6)) (4.9.0)\n",
            "Requirement already satisfied: attrs>=22.2.0 in /usr/local/lib/python3.10/dist-packages (from jsonschema>=2.6->nbformat->notebook->-r https://raw.githubusercontent.com/alimay01/ucm_master_2024_PYTHON/main/requirements.txt (line 6)) (23.2.0)\n",
            "Requirement already satisfied: jsonschema-specifications>=2023.03.6 in /usr/local/lib/python3.10/dist-packages (from jsonschema>=2.6->nbformat->notebook->-r https://raw.githubusercontent.com/alimay01/ucm_master_2024_PYTHON/main/requirements.txt (line 6)) (2023.12.1)\n",
            "Requirement already satisfied: referencing>=0.28.4 in /usr/local/lib/python3.10/dist-packages (from jsonschema>=2.6->nbformat->notebook->-r https://raw.githubusercontent.com/alimay01/ucm_master_2024_PYTHON/main/requirements.txt (line 6)) (0.32.1)\n",
            "Requirement already satisfied: rpds-py>=0.7.1 in /usr/local/lib/python3.10/dist-packages (from jsonschema>=2.6->nbformat->notebook->-r https://raw.githubusercontent.com/alimay01/ucm_master_2024_PYTHON/main/requirements.txt (line 6)) (0.16.2)\n",
            "Requirement already satisfied: websocket-client in /usr/local/lib/python3.10/dist-packages (from jupyter-server>=1.8->nbclassic>=0.4.7->notebook->-r https://raw.githubusercontent.com/alimay01/ucm_master_2024_PYTHON/main/requirements.txt (line 6)) (1.7.0)\n",
            "Requirement already satisfied: wcwidth in /usr/local/lib/python3.10/dist-packages (from prompt_toolkit<=3.0.36,>=2.0->questionary>=2.0.0->shiny->-r https://raw.githubusercontent.com/alimay01/ucm_master_2024_PYTHON/main/requirements.txt (line 13)) (0.2.12)\n",
            "Requirement already satisfied: cffi>=1.0.1 in /usr/local/lib/python3.10/dist-packages (from argon2-cffi-bindings->argon2-cffi->notebook->-r https://raw.githubusercontent.com/alimay01/ucm_master_2024_PYTHON/main/requirements.txt (line 6)) (1.16.0)\n",
            "Requirement already satisfied: soupsieve>1.2 in /usr/local/lib/python3.10/dist-packages (from beautifulsoup4->nbconvert>=5->notebook->-r https://raw.githubusercontent.com/alimay01/ucm_master_2024_PYTHON/main/requirements.txt (line 6)) (2.5)\n",
            "Requirement already satisfied: webencodings in /usr/local/lib/python3.10/dist-packages (from bleach->nbconvert>=5->notebook->-r https://raw.githubusercontent.com/alimay01/ucm_master_2024_PYTHON/main/requirements.txt (line 6)) (0.5.1)\n",
            "Requirement already satisfied: pycparser in /usr/local/lib/python3.10/dist-packages (from cffi>=1.0.1->argon2-cffi-bindings->argon2-cffi->notebook->-r https://raw.githubusercontent.com/alimay01/ucm_master_2024_PYTHON/main/requirements.txt (line 6)) (2.21)\n",
            "Requirement already satisfied: parso<0.9.0,>=0.8.3 in /usr/local/lib/python3.10/dist-packages (from jedi>=0.16->ipython>=5.0.0->ipykernel->notebook->-r https://raw.githubusercontent.com/alimay01/ucm_master_2024_PYTHON/main/requirements.txt (line 6)) (0.8.3)\n",
            "Building wheels for collected packages: gleam\n",
            "  Building wheel for gleam (setup.py) ... \u001b[?25l\u001b[?25hdone\n",
            "  Created wheel for gleam: filename=gleam-0.1.2-py3-none-any.whl size=265872 sha256=61f2f8062d0b2189df8b66aa34fc3ac6b781f0d25f79bb2251f1b08f5cffc07f\n",
            "  Stored in directory: /root/.cache/pip/wheels/2a/5e/ba/333215bf343f1a80115d037811cbd8950477ef8ce44bd92549\n",
            "Successfully built gleam\n",
            "Installing collected packages: dash-table, dash-html-components, dash-core-components, WTForms, websockets, retrying, python-multipart, prompt_toolkit, jedi, htmltools, h11, asgiref, ansi2html, watchfiles, uvicorn, starlette, questionary, pygal, shiny, gleam, dash\n",
            "  Attempting uninstall: prompt_toolkit\n",
            "    Found existing installation: prompt-toolkit 3.0.43\n",
            "    Uninstalling prompt-toolkit-3.0.43:\n",
            "      Successfully uninstalled prompt-toolkit-3.0.43\n",
            "\u001b[31mERROR: pip's dependency resolver does not currently take into account all the packages that are installed. This behaviour is the source of the following dependency conflicts.\n",
            "lida 0.0.10 requires fastapi, which is not installed.\n",
            "lida 0.0.10 requires kaleido, which is not installed.\u001b[0m\u001b[31m\n",
            "\u001b[0mSuccessfully installed WTForms-3.1.2 ansi2html-1.9.1 asgiref-3.7.2 dash-2.14.2 dash-core-components-2.0.0 dash-html-components-2.0.0 dash-table-5.0.0 gleam-0.1.2 h11-0.14.0 htmltools-0.5.1 jedi-0.19.1 prompt_toolkit-3.0.36 pygal-3.0.4 python-multipart-0.0.6 questionary-2.0.1 retrying-1.3.4 shiny-0.6.1.1 starlette-0.35.1 uvicorn-0.25.0 watchfiles-0.21.0 websockets-12.0\n"
          ]
        },
        {
          "output_type": "display_data",
          "data": {
            "application/vnd.colab-display-data+json": {
              "pip_warning": {
                "packages": [
                  "prompt_toolkit"
                ]
              }
            }
          },
          "metadata": {}
        }
      ]
    }
  ],
  "metadata": {
    "kernelspec": {
      "display_name": "Python 3 (ipykernel)",
      "language": "python",
      "name": "python3"
    },
    "language_info": {
      "codemirror_mode": {
        "name": "ipython",
        "version": 3
      },
      "file_extension": ".py",
      "mimetype": "text/x-python",
      "name": "python",
      "nbconvert_exporter": "python",
      "pygments_lexer": "ipython3",
      "version": "3.10.6"
    },
    "colab": {
      "provenance": []
    }
  },
  "nbformat": 4,
  "nbformat_minor": 5
}