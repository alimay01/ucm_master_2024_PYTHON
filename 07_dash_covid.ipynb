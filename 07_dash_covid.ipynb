{
 "cells": [
  {
   "cell_type": "markdown",
   "id": "d4ee7e9f",
   "metadata": {},
   "source": [
    "# Dash para COVID\n",
    "\n",
    "Este (gran) trabajo ha sido realizado por Diva Flores, del máster Big Data UCM clase 3, a partir de los datos COVID que hemos utilizado en clase, pero con el trabajo adicional de hacer los cálculos de incidencia por población tomados de INE.\n",
    "\n",
    "Mantendré los comentarios e introducción de Diva para la primera parte de preparación de datos y para el ejemplo de Dash interactivo.\n",
    "\n"
   ]
  },
  {
   "cell_type": "markdown",
   "id": "94d82830",
   "metadata": {},
   "source": [
    "En el presente trabajo se analizarán los datos de COVID-19 que se obtienen a partir de la declaración de los casos a la Red Nacional de Vigilancia Epidemiológica (RENAVE) a través de la plataforma informática vía Web SiViES (Sistema de Vigilancia de España) que gestiona el Centro Nacional de Epidemiología (CNE). Estos datos corresponden al periodo comprendido entre el inicio de la pandemia (enero-2020) hasta el 28 de marzo de 2022.\n",
    "\n",
    "Para realizar algunos cálculos más específicos utilizaremos datos del INE, específicamente de población por provincia y franja etaria de los últimos tres años (2020, 2021 y 2022) y los datos de polígonos que correspoden a las representaciones gráficas de las provincias de España.\n",
    "\n",
    "**Para empezar, importamos las librerías que utilizaremos para este análisis.**"
   ]
  },
  {
   "cell_type": "code",
   "execution_count": null,
   "id": "fb33ab20",
   "metadata": {},
   "outputs": [],
   "source": [
    "import pandas as pd\n",
    "import matplotlib.pyplot as plt\n",
    "%matplotlib inline\n",
    "import seaborn as sns\n",
    "import geopandas as gpd\n",
    "import matplotlib.pyplot as plt\n",
    "import warnings\n",
    "warnings.filterwarnings(\"ignore\")\n",
    "from datetime import date\n",
    "from datetime import datetime\n",
    "import plotly.express as px\n",
    "import plotnine\n",
    "from plotnine import *\n",
    "import dash\n",
    "import dash_core_components as dcc\n",
    "import dash_html_components as html\n",
    "import plotly.graph_objects as go\n",
    "import folium"
   ]
  },
  {
   "cell_type": "markdown",
   "id": "c82da8d0",
   "metadata": {},
   "source": [
    "### Lectura de datasets\n",
    "Realizamos la lectura de los datasets de Covid y provincias (previamente descargados) y realizamos unos primeros ajustes a los mismos.\n",
    "\n",
    "Los archivos se encuentran en el mismo directorio del presente notebook, salvo el de datos COVID que se descarga directamente de la dirección web del ISCIII."
   ]
  },
  {
   "cell_type": "code",
   "execution_count": null,
   "id": "9f074bc6",
   "metadata": {},
   "outputs": [],
   "source": [
    "covid = pd.read_csv('https://cnecovid.isciii.es/covid19/resources/casos_hosp_uci_def_sexo_edad_provres.csv')"
   ]
  },
  {
   "cell_type": "code",
   "execution_count": null,
   "id": "a144eb95",
   "metadata": {
    "scrolled": true
   },
   "outputs": [],
   "source": [
    "prv = pd.read_csv(r'provinces_es.csv')\n",
    "geo_prv = r'SP_provincias.geojson'\n",
    "map = gpd.read_file(geo_prv)"
   ]
  },
  {
   "cell_type": "code",
   "execution_count": null,
   "id": "b83bc64e",
   "metadata": {},
   "outputs": [],
   "source": [
    "geo_prv = open('SP_provincias.geojson')\n",
    "map2 = gpd.read_file(geo_prv)"
   ]
  },
  {
   "cell_type": "code",
   "execution_count": null,
   "id": "e88b87ce",
   "metadata": {},
   "outputs": [],
   "source": [
    "prv\n"
   ]
  },
  {
   "cell_type": "code",
   "execution_count": null,
   "id": "5bdfa5d6",
   "metadata": {},
   "outputs": [],
   "source": [
    "map['postal_code'] = pd.to_numeric(map['CC_2'])\n",
    "map.drop(['CC_2', 'NAT2018'], axis = 'columns', inplace=True)\n",
    "map.rename(columns={'NAME_1':'comunidad_autonoma',\n",
    "                    'NAME_2':'provincia'}, inplace = True)"
   ]
  },
  {
   "cell_type": "markdown",
   "id": "88e04c54",
   "metadata": {},
   "source": [
    "**Realizamos una pre-visualización del contenido**"
   ]
  },
  {
   "cell_type": "code",
   "execution_count": null,
   "id": "bc35e412",
   "metadata": {},
   "outputs": [],
   "source": [
    "covid.head()"
   ]
  },
  {
   "cell_type": "code",
   "execution_count": null,
   "id": "44e134a6",
   "metadata": {},
   "outputs": [],
   "source": [
    "prv.head()"
   ]
  },
  {
   "cell_type": "code",
   "execution_count": null,
   "id": "d89478a0",
   "metadata": {},
   "outputs": [],
   "source": [
    "map.head()"
   ]
  },
  {
   "cell_type": "markdown",
   "id": "1c6db4f8",
   "metadata": {},
   "source": [
    "**Empezamos uniendo nuestros datasets de covid y provincias**"
   ]
  },
  {
   "cell_type": "code",
   "execution_count": null,
   "id": "c18bfed4",
   "metadata": {},
   "outputs": [],
   "source": [
    "cov_prv = covid.merge(prv, \n",
    "                      how='left', \n",
    "                      left_on='provincia_iso', \n",
    "                      right_on='code', \n",
    "                      suffixes=('_cov', '_prv'))"
   ]
  },
  {
   "cell_type": "markdown",
   "id": "30b238aa",
   "metadata": {},
   "source": [
    "\n",
    "**Realizamos algunos formateos a los datos, para que nos ayuden en las visualizaciones posteriores**"
   ]
  },
  {
   "cell_type": "code",
   "execution_count": null,
   "id": "7387ac8c",
   "metadata": {},
   "outputs": [],
   "source": [
    "cov_prv['periodo'] = cov_prv['fecha'].str.slice(0, 4)\n",
    "cov_prv['periodo'] = pd.to_numeric(cov_prv['periodo'])\n",
    "cov_prv['fecha'] = pd.to_datetime(covid['fecha'], \n",
    "                                  format = '%Y-%m-%d', \n",
    "                                  errors = 'coerce')\n",
    "cov_prv['semana'] = cov_prv['fecha'].dt.isocalendar().week\n",
    "\n",
    "cov_prv.drop(['name', 'phone_code', 'iso2'], \n",
    "             axis = 'columns', \n",
    "             inplace=True)\n",
    "cov_prv.rename(columns={'grupo_edad': 'franja_etaria'}, \n",
    "               inplace=True)\n",
    "cov_prv.head()"
   ]
  },
  {
   "cell_type": "markdown",
   "id": "61caa053",
   "metadata": {},
   "source": [
    "**Realizamos la importación de los datos de población de cada provincia, correspondientes a los años 2020, 2021 y 2022.**\n",
    "\n",
    "**Luego, unimos las tres fuentes en un único dataset.**"
   ]
  },
  {
   "cell_type": "code",
   "execution_count": null,
   "id": "750268bc",
   "metadata": {},
   "outputs": [],
   "source": [
    "pob_esp2020 = pd.read_csv(r'PoblacionEspana-Provincia_2020.csv', \n",
    "                      sep=';', \n",
    "                      encoding='latin-1')\n",
    "pob_esp2021 = pd.read_csv(r'PoblacionEspana-Provincia_2021.csv', \n",
    "                      sep=';', \n",
    "                      encoding='latin-1')\n",
    "pob_esp2022 = pd.read_csv(r'PoblacionEspana-Provincia_2022.csv', \n",
    "                      sep=';', \n",
    "                      encoding='latin-1')\n",
    "pob_esp = pd.concat([pob_esp2020, pob_esp2021, pob_esp2022])\n",
    "pob_esp.head(3)"
   ]
  },
  {
   "cell_type": "markdown",
   "id": "2d54bbab",
   "metadata": {},
   "source": [
    "**A continuación, realizamos algunos formateos al dataset para dejarlo a punto para el análisis**"
   ]
  },
  {
   "cell_type": "code",
   "execution_count": null,
   "id": "78ecaca5",
   "metadata": {},
   "outputs": [],
   "source": [
    "pob_esp.rename(columns={'Edad Simple': 'edad', \n",
    "                        'Provincias': 'provincia', \n",
    "                        'Sexo':'sexo', \n",
    "                        'Periodo':'periodo', \n",
    "                        'Total':'total'}, \n",
    "               inplace=True)"
   ]
  },
  {
   "cell_type": "code",
   "execution_count": null,
   "id": "e06ce0f1",
   "metadata": {},
   "outputs": [],
   "source": [
    "pob_esp['total'] = pob_esp['total'].str.replace(',','|')\n",
    "pob_esp['total'] = pob_esp['total'].str.replace('.','')\n",
    "pob_esp['total'] = pob_esp['total'].str.replace('|','.')\n",
    "pob_esp['total'] = pob_esp['total'].astype(float)"
   ]
  },
  {
   "cell_type": "code",
   "execution_count": null,
   "id": "82c0c975",
   "metadata": {},
   "outputs": [],
   "source": [
    "pob_esp['postal_code'] = pob_esp['provincia'].str.slice(0, 2)\n",
    "pob_esp['postal_code'] = pd.to_numeric(pob_esp['postal_code'])"
   ]
  },
  {
   "cell_type": "code",
   "execution_count": null,
   "id": "70ed7569",
   "metadata": {},
   "outputs": [],
   "source": [
    "pob_esp.loc[pob_esp['sexo'] == 'Hombres', 'sexo'] = 'H'\n",
    "pob_esp.loc[pob_esp['sexo'] == 'Mujeres', 'sexo'] = 'M'"
   ]
  },
  {
   "cell_type": "code",
   "execution_count": null,
   "id": "551913f8",
   "metadata": {},
   "outputs": [],
   "source": [
    "datos = pob_esp['edad'].str.split(expand=True)\n",
    "datos.columns = ['edad2', 'edad3', 'edad4', 'edad5']\n",
    "pob_esp = pd.concat([pob_esp, datos], axis=1)\n",
    "pob_esp.drop(['edad3', 'edad4', 'edad5'], axis = 'columns', inplace=True)\n",
    "pob_esp['edad2'] = pd.to_numeric(pob_esp['edad2'])\n",
    "pob_esp.head(3)"
   ]
  },
  {
   "cell_type": "code",
   "execution_count": null,
   "id": "c091a626",
   "metadata": {},
   "outputs": [],
   "source": [
    "def franja_etaria(edad):\n",
    "    if edad < 10:\n",
    "        franja = '0-9'\n",
    "    elif edad < 20:\n",
    "        franja = '10-19'\n",
    "    elif edad < 30:\n",
    "        franja = '20-29'\n",
    "    elif edad < 40:\n",
    "        franja = '30-39'\n",
    "    elif edad < 50:\n",
    "        franja = '40-49'\n",
    "    elif edad < 60:\n",
    "        franja = '50-59'\n",
    "    elif edad < 70:\n",
    "        franja = '60-69'\n",
    "    elif edad < 80:\n",
    "        franja = '70-79'\n",
    "    else:\n",
    "        franja = '80+'\n",
    "    return franja"
   ]
  },
  {
   "cell_type": "code",
   "execution_count": null,
   "id": "ee2afec0",
   "metadata": {},
   "outputs": [],
   "source": [
    "pob_esp['franja_etaria'] = pob_esp['edad2'].apply(franja_etaria)"
   ]
  },
  {
   "cell_type": "code",
   "execution_count": null,
   "id": "ecf104c5",
   "metadata": {},
   "outputs": [],
   "source": [
    "separado = pob_esp['periodo'].str.split(' ', expand=True)\n",
    "pob_esp['periodo']= separado[4]\n",
    "pob_esp['periodo'] = pd.to_numeric(pob_esp['periodo'])\n",
    "pob_esp.head(3)"
   ]
  },
  {
   "cell_type": "markdown",
   "id": "fa5af666",
   "metadata": {},
   "source": [
    "**A continuación, agrupamos los datos de poblacion por año y provincia, para cruzarlo con nuestro dataset de casos de Covid.**"
   ]
  },
  {
   "cell_type": "code",
   "execution_count": null,
   "id": "510e222a",
   "metadata": {},
   "outputs": [],
   "source": [
    "poblacion = pob_esp.groupby(['periodo', \n",
    "                             'provincia', \n",
    "                             'postal_code', \n",
    "                            ]).agg({'total':'sum'}).reset_index()\n",
    "poblacion.head()"
   ]
  },
  {
   "cell_type": "markdown",
   "id": "e269ebd6",
   "metadata": {},
   "source": [
    "### Incidencia Acumulada a 14 días por cada 100.000 habitantes\n",
    "Calculamos la IA a 14 días por cada cien mil habitantes."
   ]
  },
  {
   "cell_type": "code",
   "execution_count": null,
   "id": "82925fcb",
   "metadata": {},
   "outputs": [],
   "source": [
    "sum_cov = cov_prv.groupby(['fecha', 'periodo']).agg({'num_casos':'sum'})"
   ]
  },
  {
   "cell_type": "code",
   "execution_count": null,
   "id": "2fe8b688",
   "metadata": {},
   "outputs": [],
   "source": [
    "def buildLaggedFeatures(s, lag=2, dropna=True):\n",
    "    if type(s) is pd.DataFrame:\n",
    "        new_dict={}\n",
    "        for col_name in s:\n",
    "            new_dict[col_name]=s[col_name]\n",
    "            for l in range(1,lag+1):\n",
    "                new_dict['%s_%d' %(col_name,l)]=s[col_name].shift(l)\n",
    "        res=pd.DataFrame(new_dict,index=s.index)\n",
    "\n",
    "    elif type(s) is pd.Series:\n",
    "        the_range=range(lag+1)\n",
    "        res=pd.concat([s.shift(i) for i in the_range],axis=1)\n",
    "        res.columns=['_%d' %i for i in the_range]\n",
    "    else:\n",
    "        print ('Only works for DataFrame or Series')\n",
    "        return None\n",
    "    if dropna:\n",
    "        return res.dropna()\n",
    "    else:\n",
    "        return res"
   ]
  },
  {
   "cell_type": "code",
   "execution_count": null,
   "id": "f4c5b3c9",
   "metadata": {},
   "outputs": [],
   "source": [
    "casos_trend = buildLaggedFeatures(sum_cov,lag=13,dropna=False)"
   ]
  },
  {
   "cell_type": "code",
   "execution_count": null,
   "id": "62610055",
   "metadata": {},
   "outputs": [],
   "source": [
    "casos_trend = casos_trend.reset_index()"
   ]
  },
  {
   "cell_type": "code",
   "execution_count": null,
   "id": "191dd689",
   "metadata": {},
   "outputs": [],
   "source": [
    "casos_trend2 = pd.melt(casos_trend, \n",
    "                       id_vars=['fecha', 'periodo'], \n",
    "                       value_vars=['num_casos', 'num_casos_1', 'num_casos_2','num_casos_3', 'num_casos_4', \n",
    "                                   'num_casos_5', 'num_casos_6', 'num_casos_7', 'num_casos_8', 'num_casos_9', \n",
    "                                   'num_casos_10', 'num_casos_11', 'num_casos_12', 'num_casos_13'])"
   ]
  },
  {
   "cell_type": "code",
   "execution_count": null,
   "id": "61ce2b1e",
   "metadata": {},
   "outputs": [],
   "source": [
    "casos_trend2 = casos_trend2.groupby(['fecha', 'periodo']).agg({'value':'sum'}).reset_index()\n",
    "pob = poblacion.groupby(['periodo']).agg({'total':'sum'}).reset_index()\n",
    "casos_trend_pob = casos_trend2.merge(pob, how='left', left_on='periodo', right_on='periodo')\n",
    "casos_trend_pob['ia14d'] = casos_trend_pob['value']/casos_trend_pob['total']*100000\n",
    "casos_trend_pob.head()"
   ]
  },
  {
   "cell_type": "markdown",
   "id": "5e421cac",
   "metadata": {},
   "source": [
    "**Visualizamos la tendencia de la IA**"
   ]
  },
  {
   "cell_type": "code",
   "execution_count": null,
   "id": "76203e4e",
   "metadata": {},
   "outputs": [],
   "source": [
    "(\n",
    "    ggplot(casos_trend_pob)  \n",
    "    + aes(x = 'fecha', \n",
    "          y = 'ia14d')   \n",
    "    #+ geom_rect(data=df, mapping=aes(xmin=df.x1, xmax=df.x2, ymin=0, ymax=80000, fill=df.r), color=\"black\", alpha=0.5)\n",
    "    + geom_smooth(method = \"lowess\", \n",
    "                  span = 0.05)\n",
    "\n",
    "    #+ geom_hline(yintercept = 500, size = 0.5, linetype = 'dotted')\n",
    "    + geom_hline(yintercept = 500, size = 0.5, linetype = 'dotted')\n",
    "    + geom_vline(xintercept = '2020-03-15', size = 0.5, linetype = 'dotted')\n",
    "    + geom_vline(xintercept = '2020-06-25', size = 0.5, linetype = 'dotted')\n",
    "    + geom_vline(xintercept = '2020-12-10', size = 0.5, linetype = 'dotted')\n",
    "    + geom_vline(xintercept = '2021-03-17', size = 0.5, linetype = 'dotted')\n",
    "    + geom_vline(xintercept = '2021-06-23', size = 0.5, linetype = 'dotted')\n",
    "    + geom_vline(xintercept = '2021-10-14', size = 0.5, linetype = 'dotted')\n",
    "    + theme(figure_size=(8, 4),\n",
    "            axis_text_x = element_text(angle = 45,\n",
    "                                      hjust = 1,\n",
    "                                      size = 8))\n",
    "    + annotate('text', x='2020-02-10', y=600, label='Riesgo muy alto', size=9, color='red')\n",
    "    + annotate('text', x='2020-05-08', y=3000, label='Primera\\nola', size=9, color='blue')\n",
    "    + annotate('text', x='2020-09-18', y=3000, label='Segunda\\nola', size=9, color='blue')\n",
    "    + annotate('text', x='2021-01-27', y=3000, label='Tercera\\nola', size=9, color='blue')\n",
    "    + annotate('text', x='2021-05-05', y=3000, label='Cuarta\\nola', size=9, color='blue')\n",
    "    + annotate('text', x='2021-08-15', y=3000, label='Quinta\\nola', size=9, color='blue')\n",
    "    + annotate('text', x='2022-03-10', y=3000, label='Sexta\\nola', size=9, color='blue')\n",
    "    + labs(title='Evolución IA a 14d por 100.000 hab.', x='Fecha', y='IA14d')\n",
    ")\n"
   ]
  },
  {
   "cell_type": "markdown",
   "id": "0dcd4feb",
   "metadata": {},
   "source": [
    "Se visualizan picos en determinados momentos de la pandemia, que corresponden a las diferentes olas, notándose especialmente la correspondiente a la sexta ola de la pandemia."
   ]
  },
  {
   "cell_type": "markdown",
   "id": "82f293b5",
   "metadata": {},
   "source": [
    "A continuación, incluimos un gráfico interactivo para visualizar la tendencia de casos por provincia:"
   ]
  },
  {
   "cell_type": "code",
   "execution_count": null,
   "id": "975bdb95",
   "metadata": {},
   "outputs": [],
   "source": [
    "prv_trend = cov_prv.merge(map, \n",
    "                          how='left', \n",
    "                          left_on='postal_code', \n",
    "                          right_on='postal_code')\n",
    "prv_trnd = prv_trend.groupby(['provincia', 'fecha']).agg({'num_casos':'sum'}).reset_index()\n",
    "prv_trnd['fecha'] = pd.to_datetime(prv_trnd['fecha'], \n",
    "                                   format = '%Y-%m-%d', \n",
    "                                   errors = 'coerce')\n",
    "\n",
    "df_sp = prv_trnd.groupby(['fecha']).agg({'num_casos':'sum'}).reset_index()\n",
    "df_sp['provincia']='All'\n",
    "df_dash = pd.concat([prv_trnd, df_sp])\n",
    "available_prv = df_dash['provincia'].unique()\n"
   ]
  },
  {
   "cell_type": "code",
   "execution_count": null,
   "id": "9c413d80",
   "metadata": {},
   "outputs": [],
   "source": [
    "app = dash.Dash()"
   ]
  },
  {
   "cell_type": "code",
   "execution_count": null,
   "id": "ba7cbbf1",
   "metadata": {},
   "outputs": [],
   "source": [
    "available_prv"
   ]
  },
  {
   "cell_type": "code",
   "execution_count": null,
   "id": "6c89a236",
   "metadata": {},
   "outputs": [],
   "source": [
    "app.layout = html.Div([\n",
    "    dcc.Dropdown(\n",
    "        id='demo-dropdown',\n",
    "        options=[{'label': k, 'value': k} for k in available_prv],\n",
    "        value=['All'],\n",
    "        multi=True\n",
    "    ),\n",
    "\n",
    "    html.Hr(),\n",
    "    dcc.Graph(id='display-selected-values'),\n",
    "\n",
    "])\n"
   ]
  },
  {
   "cell_type": "code",
   "execution_count": null,
   "id": "0d35141d",
   "metadata": {},
   "outputs": [],
   "source": [
    "@app.callback(\n",
    "    dash.dependencies.Output('display-selected-values', 'figure'),\n",
    "    [dash.dependencies.Input('demo-dropdown', 'value')])\n",
    "\n",
    "def update_output(value):\n",
    "    ts = df_dash[df_dash[\"provincia\"].isin(value)]\n",
    "    fig = px.line(ts, x=\"fecha\", y=\"num_casos\", color=\"provincia\")\n",
    "    return fig\n"
   ]
  },
  {
   "cell_type": "code",
   "execution_count": null,
   "id": "d71d4170",
   "metadata": {},
   "outputs": [],
   "source": [
    "if __name__ == '__main__':\n",
    "    app.run_server(port = 8060)"
   ]
  }
 ],
 "metadata": {
  "kernelspec": {
   "display_name": "Python 3 (ipykernel)",
   "language": "python",
   "name": "python3"
  },
  "language_info": {
   "codemirror_mode": {
    "name": "ipython",
    "version": 3
   },
   "file_extension": ".py",
   "mimetype": "text/x-python",
   "name": "python",
   "nbconvert_exporter": "python",
   "pygments_lexer": "ipython3",
   "version": "3.10.12"
  }
 },
 "nbformat": 4,
 "nbformat_minor": 5
}
